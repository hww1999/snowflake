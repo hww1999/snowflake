{
 "cells": [
  {
   "cell_type": "code",
   "execution_count": 35,
   "id": "dadb5d73",
   "metadata": {
    "scrolled": true
   },
   "outputs": [],
   "source": [
    "import pandas as pd\n",
    "import numpy as np\n",
    "import snowflake.connector\n",
    "from snowflake.snowpark import Session\n",
    "from snowflake.ml.utils import connection_params"
   ]
  },
  {
   "cell_type": "code",
   "execution_count": 29,
   "metadata": {},
   "outputs": [],
   "source": [
    "USERNAME = '<>'\n",
    "PASSWORD = '<>'\n",
    "ACCOUNT = '<>' # go to Admin page and extract from the link\n",
    "ROLE = 'ACCOUNTADMIN'\n",
    "WAREHOUSE = 'CLIMATOLOGY'\n",
    "DATABASE = 'ML_CLIMATOLOGY_DB'\n",
    "SCHEMA = 'ML_CLIMATOLOGY_SCHEMA'"
   ]
  },
  {
   "cell_type": "code",
   "execution_count": 6,
   "metadata": {},
   "outputs": [],
   "source": [
    "connection_parameters = {\n",
    "    \"user\": USERNAME,\n",
    "    \"password\": PASSWORD,\n",
    "    \"account\": ACCOUNT,\n",
    "    \"role\": ROLE,\n",
    "    \"warehouse\": WAREHOUSE,\n",
    "    \"database\": DATABASE,\n",
    "    \"schema\": SCHEMA,\n",
    "    }\n",
    "session = Session.builder.configs(connection_parameters).create()"
   ]
  },
  {
   "cell_type": "code",
   "execution_count": 30,
   "metadata": {},
   "outputs": [],
   "source": [
    "conn = snowflake.connector.connect(\n",
    "    user=USERNAME,\n",
    "    password=PASSWORD,\n",
    "    account=ACCOUNT,\n",
    "    warehouse=WAREHOUSE,\n",
    "    database=DATABASE,\n",
    "    schema=SCHEMA\n",
    ")\n",
    "\n",
    "# Create a cursor object\n",
    "cursor = conn.cursor()"
   ]
  },
  {
   "cell_type": "code",
   "execution_count": 31,
   "metadata": {},
   "outputs": [],
   "source": [
    "# sql = \"select * from GLOBAL_WEATHER__CLIMATE_DATA_FOR_BI.STANDARD_TILE.CLIMATOLOGY_DAY\"\n",
    "\n",
    "sql1 = 'USE ROLE ACCOUNTADMIN;'\n",
    "sql2 = 'CREATE OR REPLACE WAREHOUSE CLIMATOLOGY;'\n",
    "sql3 = 'CREATE OR REPLACE DATABASE ML_CLIMATOLOGY_DB;'\n",
    "sql4 = 'CREATE OR REPLACE SCHEMA ML_CLIMATOLOGY_SCHEMA;'\n",
    "sql5 = 'CREATE OR REPLACE STAGE ML_CLIMATOLOGY_ASSETS;'\n",
    "sql6 = '''CREATE FILE FORMAT IF NOT EXISTS ML_CLIMATOLOGY_DB.ML_CLIMATOLOGY_SCHEMA.JSONFORMAT \n",
    "    TYPE = \"JSON\";'''\n",
    "sql7 = '''CREATE STAGE IF NOT EXISTS ML_CLIMATOLOGY_DB.ML_CLIMATOLOGY_SCHEMA.CLIMATOLOGY \n",
    "    FILE_FORMAT = ML_CLIMATOLOGY_DB.ML_CLIMATOLOGY_SCHEMA.JSONFORMAT  \n",
    "    URL = \"s3://snowflake-climatology/cli_total.json\"'''\n",
    "# df = session.sql(sql)"
   ]
  },
  {
   "cell_type": "code",
   "execution_count": 32,
   "metadata": {},
   "outputs": [
    {
     "data": {
      "text/plain": [
       "<snowflake.connector.cursor.SnowflakeCursor at 0x1d328f60730>"
      ]
     },
     "execution_count": 32,
     "metadata": {},
     "output_type": "execute_result"
    }
   ],
   "source": [
    "cursor.execute(sql1)\n",
    "cursor.execute(sql2)\n",
    "cursor.execute(sql3)\n",
    "cursor.execute(sql4)\n",
    "cursor.execute(sql5)\n",
    "cursor.execute(sql6)\n",
    "cursor.execute(sql7)\n"
   ]
  },
  {
   "cell_type": "code",
   "execution_count": 27,
   "metadata": {},
   "outputs": [],
   "source": [
    "session.close()"
   ]
  },
  {
   "cell_type": "code",
   "execution_count": 34,
   "metadata": {},
   "outputs": [
    {
     "data": {
      "text/plain": [
       "True"
      ]
     },
     "execution_count": 34,
     "metadata": {},
     "output_type": "execute_result"
    }
   ],
   "source": [
    "cursor.close()"
   ]
  },
  {
   "cell_type": "code",
   "execution_count": null,
   "id": "94392ce7",
   "metadata": {},
   "outputs": [],
   "source": [
    "# create or replace warehouse snowpark_opt_wh with\n",
    "#   warehouse_size = 'MEDIUM'\n",
    "#   warehouse_type = 'SNOWPARK-OPTIMIZED';\n",
    "#   max_concurrency_level = 1;\n",
    "\n",
    "# create or replace procedure train()\n",
    "#   returns variant\n",
    "#   language python\n",
    "#   runtime_version = 3.8\n",
    "#   packages = ('snowflake-snowpark-python', 'scikit-learn', 'joblib')\n",
    "#   handler = 'main'\n",
    "# as $$\n",
    "# import os\n",
    "# from sklearn.compose import ColumnTransformer\n",
    "# from sklearn.pipeline import Pipeline\n",
    "# from sklearn.preprocessing import PolynomialFeatures\n",
    "# from sklearn.preprocessing import StandardScaler\n",
    "# from sklearn.linear_model import LinearRegression\n",
    "# from sklearn.model_selection import train_test_split, GridSearchCV\n",
    "# from joblib import dump\n",
    "\n",
    "# def main(session):\n",
    "#   # Load features\n",
    "#   df = session.table('MARKETING_BUDGETS_FEATURES').to_pandas()\n",
    "#   X = df.drop('REVENUE', axis = 1)\n",
    "#   y = df['REVENUE']\n",
    "\n",
    "#   # Split dataset into training and test\n",
    "#   X_train, X_test, y_train, y_test = train_test_split(X, y, test_size=0.2, random_state = 42)\n",
    "\n",
    "#   # Preprocess numeric columns\n",
    "#   numeric_features = ['SEARCH_ENGINE','SOCIAL_MEDIA','VIDEO','EMAIL']\n",
    "#   numeric_transformer = Pipeline(steps=[('poly',PolynomialFeatures(degree = 2)),('scaler', StandardScaler())])\n",
    "#   preprocessor = ColumnTransformer(transformers=[('num', numeric_transformer, numeric_features)])\n",
    "\n",
    "#   # Create pipeline and train\n",
    "#   pipeline = Pipeline(steps=[('preprocessor', preprocessor),('classifier', LinearRegression(n_jobs=-1))])\n",
    "#   model = GridSearchCV(pipeline, param_grid={}, n_jobs=-1, cv=10)\n",
    "#   model.fit(X_train, y_train)\n",
    "\n",
    "#   # Upload trained model to a stage\n",
    "#   model_file = os.path.join('/tmp', 'model.joblib')\n",
    "#   dump(model, model_file)\n",
    "#   session.file.put(model_file, \"@ml_models\",overwrite=True)\n",
    "\n",
    "#   # Return model R2 score on train and test data\n",
    "#   return {\"R2 score on Train\": model.score(X_train, y_train),\"R2 score on Test\": model.score(X_test, y_test)}\n",
    "# $$;"
   ]
  }
 ],
 "metadata": {
  "kernelspec": {
   "display_name": "Python 3 (ipykernel)",
   "language": "python",
   "name": "python3"
  },
  "language_info": {
   "codemirror_mode": {
    "name": "ipython",
    "version": 3
   },
   "file_extension": ".py",
   "mimetype": "text/x-python",
   "name": "python",
   "nbconvert_exporter": "python",
   "pygments_lexer": "ipython3",
   "version": "3.8.18"
  }
 },
 "nbformat": 4,
 "nbformat_minor": 5
}
