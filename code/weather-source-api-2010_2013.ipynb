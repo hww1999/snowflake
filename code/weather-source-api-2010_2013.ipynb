{
 "cells": [
  {
   "cell_type": "code",
   "execution_count": 2,
   "metadata": {},
   "outputs": [],
   "source": [
    "import numpy as np\n",
    "import pandas as pd\n",
    "\n",
    "import requests, json"
   ]
  },
  {
   "cell_type": "code",
   "execution_count": 13,
   "metadata": {},
   "outputs": [],
   "source": [
    "API_REQUEST_URL = 'https://climatology.weathersourceapis.com/v2'\n",
    "\n",
    "# An hour of weather climatology for a DMA\n",
    "API_CLIMATOLOGY_DMAS_HOURLY = '/dmas/{dmaId}/hours/{timestamp}/?fields={fields}&unitScale=IMPERIAL'\n",
    "\n",
    "\n",
    "REQUEST_TEMPLATE = {      \n",
    "    \"dmaId\":      \"819\",  # DMA Id of Seattle - Tacoma area\n",
    "    \"timestamp\":  \"\",     # the three digit county FIPS # as a string\n",
    "    \"fields\":     \"popular\"\n",
    "}\n",
    "\n",
    "API_KEY = \"p9zGb5GyMFaGRvaBR4lWyADlV\""
   ]
  },
  {
   "cell_type": "code",
   "execution_count": 14,
   "metadata": {},
   "outputs": [],
   "source": [
    "headers = {\n",
    "    'accept': 'application/json',\n",
    "    'X-API-KEY': f'{API_KEY}',\n",
    "}\n",
    "\n",
    "def request_hourly_info(timestamp = None,\n",
    "                        endpoint_url = API_REQUEST_URL, \n",
    "                        endpoint_action = API_CLIMATOLOGY_DMAS_HOURLY,\n",
    "                        request_template = REQUEST_TEMPLATE,\n",
    "                        headers = headers):\n",
    "    \n",
    "    request_template['timestamp'] = timestamp\n",
    "\n",
    "    # compose the request\n",
    "    print(endpoint_action.format(**request_template))\n",
    "    request_url = endpoint_url+endpoint_action.format(**request_template)\n",
    "        \n",
    "    # make the request\n",
    "    try:\n",
    "        # Wait first, to make sure we don't exceed a rate limit in the situation where an exception occurs\n",
    "        # during the request processing - throttling is always a good practice with a free data source\n",
    "        response = requests.get(request_url, headers=headers)\n",
    "        json_response = response.json()\n",
    "    except Exception as e:\n",
    "        print(e)\n",
    "        json_response = None\n",
    "    return json_response"
   ]
  },
  {
   "cell_type": "code",
   "execution_count": 16,
   "metadata": {},
   "outputs": [
    {
     "name": "stdout",
     "output_type": "stream",
     "text": [
      "/dmas/819/hours/2010-12-20T19:00:00Z/?fields=popular&unitScale=IMPERIAL\n",
      "[\n",
      "    {\n",
      "        \"cldCvr\": 77.4,\n",
      "        \"cldCvrSd\": 30.31,\n",
      "        \"feelsLike\": 37.2,\n",
      "        \"feelsLikeSd\": 6.76,\n",
      "        \"precip\": 0.05,\n",
      "        \"precipSd\": 0.03,\n",
      "        \"relHum\": 87.3,\n",
      "        \"relHumSd\": 9.8,\n",
      "        \"snowfall\": 0,\n",
      "        \"snowfallSd\": 0.01,\n",
      "        \"temp\": 40.35,\n",
      "        \"tempSd\": 5.8,\n",
      "        \"timestamp\": \"2010-12-20T19:00:00Z\",\n",
      "        \"windDir\": 167.26,\n",
      "        \"windSpd\": 5.75,\n",
      "        \"windSpdSd\": 4.35\n",
      "    }\n",
      "]\n"
     ]
    }
   ],
   "source": [
    "ts = '2010-12-20T19:00:00Z'\n",
    "response = request_hourly_info(timestamp=ts)\n",
    "print(json.dumps(response[\"climatology\"], indent=4))\n"
   ]
  },
  {
   "cell_type": "code",
   "execution_count": null,
   "metadata": {},
   "outputs": [],
   "source": []
  }
 ],
 "metadata": {
  "kernelspec": {
   "display_name": "Python 3",
   "language": "python",
   "name": "python3"
  },
  "language_info": {
   "codemirror_mode": {
    "name": "ipython",
    "version": 3
   },
   "file_extension": ".py",
   "mimetype": "text/x-python",
   "name": "python",
   "nbconvert_exporter": "python",
   "pygments_lexer": "ipython3",
   "version": "3.8.4"
  }
 },
 "nbformat": 4,
 "nbformat_minor": 2
}
