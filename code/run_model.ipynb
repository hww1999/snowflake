{
 "cells": [
  {
   "cell_type": "markdown",
   "metadata": {},
   "source": []
  },
  {
   "cell_type": "code",
   "execution_count": 26,
   "metadata": {},
   "outputs": [],
   "source": [
    "# Snowpark for Python\n",
    "import snowflake.snowpark as snowpark\n",
    "from snowflake.snowpark import Session\n",
    "from snowflake.snowpark.version import VERSION\n",
    "from snowflake.snowpark.types import StructType, StructField, DoubleType, StringType\n",
    "import snowflake.snowpark.functions as F\n",
    "from snowflake.snowpark.functions import col\n",
    "from snowflake.ml.modeling.linear_model import LinearRegression\n",
    "from snowflake.ml.modeling.metrics import mean_squared_error\n",
    "from snowflake.snowpark.functions import call_builtin\n",
    "from snowflake.ml.modeling.xgboost import XGBRegressor\n",
    "from snowflake.ml.modeling.metrics import mean_absolute_percentage_error, mean_squared_error, r2_score\n",
    "\n",
    "# data science libs\n",
    "import numpy as np\n",
    "\n",
    "# misc\n",
    "import json\n",
    "import joblib\n",
    "\n",
    "from sklearn.model_selection import train_test_split"
   ]
  },
  {
   "cell_type": "code",
   "execution_count": 3,
   "metadata": {},
   "outputs": [
    {
     "name": "stdout",
     "output_type": "stream",
     "text": [
      "\n",
      "Connection Established with the following parameters:\n",
      "User                        : GJWONG\n",
      "Role                        : \"ACCOUNTADMIN\"\n",
      "Database                    : \"ML_CLI_DB\"\n",
      "Schema                      : \"ML_CLI_SCHEMA\"\n",
      "Warehouse                   : \"ML_CLI_WH\"\n",
      "Snowflake version           : 7.41.0\n",
      "Snowpark for Python version : 1.5.1\n"
     ]
    }
   ],
   "source": [
    "# Make a Snowpark Connection\n",
    "# Edit the connection.json before creating the session object below\n",
    "# Create Snowflake Session object\n",
    "connection_parameters = json.load(open('connection.json'))\n",
    "session = Session.builder.configs(connection_parameters).create()\n",
    "session.sql_simplifier_enabled = True\n",
    "\n",
    "snowflake_environment = session.sql('SELECT current_user(), current_version()').collect()\n",
    "snowpark_version = VERSION\n",
    "\n",
    "# Current Environment Details\n",
    "print('\\nConnection Established with the following parameters:')\n",
    "print('User                        : {}'.format(snowflake_environment[0][0]))\n",
    "print('Role                        : {}'.format(session.get_current_role()))\n",
    "print('Database                    : {}'.format(session.get_current_database()))\n",
    "print('Schema                      : {}'.format(session.get_current_schema()))\n",
    "print('Warehouse                   : {}'.format(session.get_current_warehouse()))\n",
    "print('Snowflake version           : {}'.format(snowflake_environment[0][1]))\n",
    "print('Snowpark for Python version : {}.{}.{}'.format(snowpark_version[0],snowpark_version[1],snowpark_version[2]))\n"
   ]
  },
  {
   "cell_type": "code",
   "execution_count": 37,
   "metadata": {},
   "outputs": [
    {
     "name": "stdout",
     "output_type": "stream",
     "text": [
      "----------------------------------------------------------------------------------------------------------------------------------------------------\n",
      "|\"WEEK_START_DATE\"    |\"AVG_CLDCVR\"  |\"AVG_FEELSLIKE\"  |\"AVG_PRECIP\"  |\"AVG_RELHUM\"  |\"AVG_SNOWFALL\"  |\"AVG_TEMP\"  |\"AVG_WINDDIR\"  |\"AVG_WINDSPD\"  |\n",
      "----------------------------------------------------------------------------------------------------------------------------------------------------\n",
      "|2009-12-28 00:00:00  |75.025000     |36.250000        |0.000000      |88.725000     |0.000000        |39.462500   |170.350000     |5.700000       |\n",
      "|2010-01-04 00:00:00  |72.559524     |36.184524        |0.000000      |89.083333     |0.000000        |39.333333   |170.750000     |5.666667       |\n",
      "|2010-01-11 00:00:00  |70.875000     |36.886905        |0.000000      |89.672619     |0.000000        |39.839286   |168.755952     |5.386905       |\n",
      "|2010-01-18 00:00:00  |68.773810     |37.440476        |0.000000      |89.107143     |0.000000        |40.065476   |165.178571     |5.000000       |\n",
      "|2010-01-25 00:00:00  |69.607143     |38.315476        |0.000000      |87.184524     |0.000000        |40.928571   |161.000000     |5.017857       |\n",
      "|2010-02-01 00:00:00  |73.029762     |39.636905        |0.000000      |86.285714     |0.000000        |42.196429   |163.202381     |5.202381       |\n",
      "|2010-02-08 00:00:00  |70.988095     |40.000000        |0.000000      |85.029762     |0.000000        |42.738095   |169.142857     |5.410714       |\n",
      "|2010-02-15 00:00:00  |69.910714     |39.845238        |0.000000      |84.458333     |0.000000        |42.803571   |173.636905     |5.791667       |\n",
      "|2010-02-22 00:00:00  |68.357143     |39.738095        |0.000000      |83.065476     |0.000000        |42.744048   |174.988095     |5.970238       |\n",
      "|2010-03-01 00:00:00  |70.041667     |40.386905        |0.000000      |82.214286     |0.000000        |43.351190   |173.011905     |6.220238       |\n",
      "----------------------------------------------------------------------------------------------------------------------------------------------------\n",
      "\n"
     ]
    }
   ],
   "source": [
    "# Your code goes here, inside the \"main\" handler.\n",
    "tableName = 'weekly_weather_data'\n",
    "# dataframe = session.table(tableName).filter(col(\"language\") == 'python')\n",
    "df = session.table(tableName)\n",
    "\n",
    "# Split train and test sets\n",
    "# df = df.to_pandas()\n",
    "df.show()\n"
   ]
  },
  {
   "cell_type": "code",
   "execution_count": 6,
   "metadata": {},
   "outputs": [
    {
     "data": {
      "text/plain": [
       "Index(['MONTH_START_DATE', 'AVG_CLDCVR', 'AVG_FEELSLIKE', 'AVG_PRECIP',\n",
       "       'AVG_RELHUM', 'AVG_SNOWFALL', 'AVG_TEMP', 'AVG_WINDDIR', 'AVG_WINDSPD'],\n",
       "      dtype='object')"
      ]
     },
     "execution_count": 6,
     "metadata": {},
     "output_type": "execute_result"
    }
   ],
   "source": [
    "df.columns"
   ]
  },
  {
   "cell_type": "code",
   "execution_count": 40,
   "metadata": {},
   "outputs": [],
   "source": [
    "session.close()"
   ]
  },
  {
   "cell_type": "code",
   "execution_count": 38,
   "metadata": {},
   "outputs": [
    {
     "name": "stdout",
     "output_type": "stream",
     "text": [
      "[15:32:14] WARNING: /Users/runner/work/xgboost/xgboost/python-package/build/temp.macosx-10.9-x86_64-cpython-38/xgboost/src/learner.cc:553: \n",
      "  If you are loading a serialized model (like pickle in Python, RDS in R) generated by\n",
      "  older XGBoost, please export the model by calling `Booster.save_model` from that version\n",
      "  first, then load it back in current version. See:\n",
      "\n",
      "    https://xgboost.readthedocs.io/en/latest/tutorials/saving_model.html\n",
      "\n",
      "  for more details about differences between saving model and serializing.\n",
      "\n"
     ]
    },
    {
     "name": "stderr",
     "output_type": "stream",
     "text": [
      "/usr/local/anaconda3/lib/python3.9/site-packages/snowflake/ml/model/_signatures/core.py:153: UserWarning: Warning: Type DecimalType(38, 6) is being automatically converted to DOUBLE in the Snowpark DataFrame. This automatic conversion may lead to potential precision loss and rounding errors. If you wish to prevent this conversion, you should manually perform the necessary data type conversion.\n",
      "  warnings.warn(\n",
      "/usr/local/anaconda3/lib/python3.9/site-packages/snowflake/ml/_internal/utils/snowpark_dataframe_utils.py:88: UserWarning: Warning: The Decimal(38, 6) data type is being automatically converted to DoubleType in the Snowpark DataFrame. This automatic conversion may lead to potential precision loss and rounding errors. If you wish to prevent this conversion, you should manually perform the necessary data type conversion.\n",
      "  warnings.warn(\n",
      "The version of package numpy in the local environment is 1.26.1, which does not fit the criteria for the requirement numpy==1.26.0. Your UDF might not work when the package version is different between the server and your local environment\n",
      "The version of package xgboost in the local environment is 1.7.6, which does not fit the criteria for the requirement xgboost==1.7.3. Your UDF might not work when the package version is different between the server and your local environment\n"
     ]
    }
   ],
   "source": [
    "# X = df[['AVG_CLDCVR', 'AVG_RELHUM', 'AVG_TEMP', 'AVG_WINDSPD']]\n",
    "# y = df['AVG_FEELSLIKE']\n",
    "# features = ['AVG_CLDCVR', 'AVG_RELHUM', 'AVG_TEMP', 'AVG_WINDSPD']\n",
    "# features = ['AVG_CLDCVR', 'AVG_RELHUM', 'AVG_WINDSPD']\n",
    "features = ['AVG_PRECIP']\n",
    "# label = ['AVG_FEELSLIKE']\n",
    "label = ['AVG_TEMP']\n",
    "# pred = ['PREDICTED_FEELSLIKE']\n",
    "pred = ['PREDICTED_TEMP']\n",
    "\n",
    "train_df, test_df = df.random_split(weights=[0.8, 0.2], seed=0)\n",
    "\n",
    "regressor = XGBRegressor(\n",
    "    input_cols=features,\n",
    "    label_cols=label,\n",
    "    output_cols=pred\n",
    ")\n",
    "\n",
    "# Train\n",
    "regressor.fit(train_df)\n",
    "\n",
    "# Predict\n",
    "result = regressor.predict(test_df)\n",
    "\n",
    "# Train the linear regression model\n",
    "# reg = LinearRegression().fit(X_train, y_train)\n",
    "# reg = call_builtin(\"linear_regressor\", df, features, label)\n",
    "# print(reg.score(X_train, y_train))\n",
    "# y_pred = reg.predict(X_test)\n",
    "# print(mean_squared_error(y_test, y_pred))\n"
   ]
  },
  {
   "cell_type": "code",
   "execution_count": 39,
   "metadata": {},
   "outputs": [
    {
     "name": "stdout",
     "output_type": "stream",
     "text": [
      "----------------------------------\n",
      "|\"AVG_TEMP\"  |\"PREDICTED_TEMP\"   |\n",
      "----------------------------------\n",
      "|42.803571   |50.91461563110352  |\n",
      "|44.285714   |50.91461563110352  |\n",
      "|46.577381   |50.91461563110352  |\n",
      "|49.583333   |50.91461563110352  |\n",
      "|54.333333   |50.91461563110352  |\n",
      "|57.690476   |50.91461563110352  |\n",
      "|58.220238   |50.91461563110352  |\n",
      "|62.744048   |50.91461563110352  |\n",
      "|64.095238   |50.91461563110352  |\n",
      "|41.833333   |50.91461563110352  |\n",
      "----------------------------------\n",
      "\n",
      "Mean absolute percentage error: 0.1469382340679494\n",
      "Mean squared error: 77.74850222239256\n"
     ]
    }
   ],
   "source": [
    "# mape = mean_absolute_percentage_error(df=result, \n",
    "#                                         y_true_col_names=\"AVG_FEELSLIKE\", \n",
    "#                                         y_pred_col_names=\"PREDICTED_FEELSLIKE\")\n",
    "\n",
    "# result.select(\"AVG_FEELSLIKE\", \"PREDICTED_FEELSLIKE\").show()\n",
    "# print(f\"Mean absolute percentage error: {mape}\")\n",
    "\n",
    "\n",
    "mape = mean_absolute_percentage_error(df=result, \n",
    "                                        y_true_col_names=\"AVG_TEMP\", \n",
    "                                        y_pred_col_names=\"PREDICTED_TEMP\")\n",
    "mse = mean_squared_error(df=result, \n",
    "                        y_true_col_names=\"AVG_TEMP\", \n",
    "                        y_pred_col_names=\"PREDICTED_TEMP\")\n",
    "\n",
    "# r2 = r2_score(df=result, \n",
    "#                 y_true_col_names=\"AVG_TEMP\", \n",
    "#                 y_pred_col_names=\"PREDICTED_TEMP\")\n",
    "result.select(\"AVG_TEMP\", \"PREDICTED_TEMP\").show()\n",
    "print(f\"Mean absolute percentage error: {mape}\")\n",
    "print(f\"Mean squared error: {mse}\")\n",
    "# print(F\"R2 score: {r2}\")"
   ]
  },
  {
   "cell_type": "code",
   "execution_count": 12,
   "metadata": {},
   "outputs": [
    {
     "data": {
      "text/plain": [
       "0      37.000000\n",
       "1      37.106183\n",
       "2      39.805060\n",
       "3      41.875000\n",
       "4      46.738889\n",
       "         ...    \n",
       "152    64.278226\n",
       "153    59.161111\n",
       "154    50.728495\n",
       "155    42.329167\n",
       "156    36.771084\n",
       "Name: AVG_FEELSLIKE, Length: 157, dtype: float64"
      ]
     },
     "execution_count": 12,
     "metadata": {},
     "output_type": "execute_result"
    }
   ],
   "source": [
    "y"
   ]
  },
  {
   "cell_type": "code",
   "execution_count": null,
   "metadata": {},
   "outputs": [],
   "source": []
  }
 ],
 "metadata": {
  "kernelspec": {
   "display_name": "base",
   "language": "python",
   "name": "python3"
  },
  "language_info": {
   "codemirror_mode": {
    "name": "ipython",
    "version": 3
   },
   "file_extension": ".py",
   "mimetype": "text/x-python",
   "name": "python",
   "nbconvert_exporter": "python",
   "pygments_lexer": "ipython3",
   "version": "3.9.13"
  }
 },
 "nbformat": 4,
 "nbformat_minor": 2
}
